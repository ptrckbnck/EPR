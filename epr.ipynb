{
 "cells": [
  {
   "cell_type": "markdown",
   "metadata": {},
   "source": [
    "[![Open In Colab](https://colab.research.google.com/assets/colab-badge.svg)](https://github.com/ptrckbnck/EPR/blob/main/epr.ipynb)"
   ]
  },
  {
   "cell_type": "markdown",
   "metadata": {},
   "source": [
    "# EPR Repetitorium 10.10.2021\n",
    "Die Themen sind in der Reihenfolge des Python Tutorials https://docs.python.org/3/tutorial/ (sehr zu empfehlen) sortiert. Zu jedem Thema steht dabei, in welchem Foliensatz auf moodle dieser zu finden ist.\n",
    "\n",
    "Was ihr hier sehen könnt, nennt sich Jupyter Notebook https://jupyter.org/. Ein nützliches Werkzeug, um Code zu demonstrieren und Daten zu visualisieren.\n",
    "\n",
    "Autor: Patrick Bonack"
   ]
  },
  {
   "cell_type": "code",
   "execution_count": 40,
   "metadata": {
    "scrolled": false
   },
   "outputs": [
    {
     "name": "stdout",
     "output_type": "stream",
     "text": [
      "Python 3.10.0\n"
     ]
    }
   ],
   "source": [
    "import sys\n",
    "!{sys.executable} --version"
   ]
  },
  {
   "cell_type": "markdown",
   "metadata": {},
   "source": [
    "## Simple Data Types\n",
    "VE00 - Die allerersten Schritte"
   ]
  },
  {
   "cell_type": "markdown",
   "metadata": {},
   "source": [
    "### Boolean"
   ]
  },
  {
   "cell_type": "code",
   "execution_count": 41,
   "metadata": {
    "pycharm": {
     "name": "#%%\n"
    }
   },
   "outputs": [
    {
     "name": "stdout",
     "output_type": "stream",
     "text": [
      "a: False\n",
      "b: True\n",
      "\n",
      "1 < 2: True\n",
      "1 <= 2: True\n",
      "1 <= 2: True\n",
      "1 == 2: False\n",
      "1 != 2: True\n",
      "\n",
      "0 == False: True\n",
      "1 == True: True\n",
      "not 0: True\n",
      "not 1: False\n",
      "\n",
      "2 == True: False\n",
      "2 == False: False\n",
      "not 2: False\n"
     ]
    }
   ],
   "source": [
    "a = False\n",
    "b = True\n",
    "print(\"a:\", a)\n",
    "print(\"b:\", b)\n",
    "print()\n",
    "\n",
    "print(\"1 < 2:\", 1 < 2)\n",
    "print(\"1 <= 2:\", 1 <= 2)\n",
    "print(\"1 <= 2:\", 1 <= 2)\n",
    "print(\"1 == 2:\", 1 == 2)\n",
    "print(\"1 != 2:\", 1 != 2)\n",
    "print()\n",
    "\n",
    "print(\"0 == False:\",0 == False)\n",
    "print(\"1 == True:\", 1 == True)\n",
    "print(\"not 0:\", not 0)\n",
    "print(\"not 1:\", not 1)\n",
    "print()\n",
    "\n",
    "print(\"2 == True:\", 2 == True)\n",
    "print(\"2 == False:\",2 == False)\n",
    "print(\"not 2:\", not 2)"
   ]
  },
  {
   "cell_type": "markdown",
   "metadata": {},
   "source": [
    "### Numeric Types"
   ]
  },
  {
   "cell_type": "code",
   "execution_count": 3,
   "metadata": {
    "pycharm": {
     "name": "#%%\n"
    }
   },
   "outputs": [
    {
     "name": "stdout",
     "output_type": "stream",
     "text": [
      "1\n",
      "1\n",
      "2.0\n",
      "2.0\n",
      "(4+4j)\n",
      "(4+4j)\n"
     ]
    }
   ],
   "source": [
    "# int\n",
    "print(1)\n",
    "print(int(\"1\"))\n",
    "\n",
    "# float\n",
    "print(2.0)\n",
    "print(float(\"2\"))\n",
    "\n",
    "# complex\n",
    "print(4+4j)\n",
    "print(complex(4,4))"
   ]
  },
  {
   "cell_type": "markdown",
   "metadata": {},
   "source": [
    "### Common Numeric Operations\n",
    "Programmierhandzettel"
   ]
  },
  {
   "cell_type": "code",
   "execution_count": 42,
   "metadata": {},
   "outputs": [
    {
     "name": "stdout",
     "output_type": "stream",
     "text": [
      "3\n",
      "-3\n",
      "9\n",
      "4\n",
      "1.5\n",
      "1\n",
      "1\n",
      "5\n",
      "1\n"
     ]
    }
   ],
   "source": [
    "x = 3\n",
    "y = 2\n",
    "print(+x)\n",
    "print(-x)\n",
    "print(x**y)\n",
    "print(y*y)\n",
    "print(x/y)\n",
    "print(x%y)\n",
    "print(x//y)\n",
    "print(x+y)\n",
    "print(x-y)"
   ]
  },
  {
   "cell_type": "markdown",
   "metadata": {},
   "source": [
    "## Data Structures\n",
    "VE04 - Aggregierte Datentypen"
   ]
  },
  {
   "cell_type": "markdown",
   "metadata": {},
   "source": [
    "### Sequence "
   ]
  },
  {
   "cell_type": "code",
   "execution_count": 44,
   "metadata": {},
   "outputs": [
    {
     "name": "stdout",
     "output_type": "stream",
     "text": [
      "[1, 2, 3]\n",
      "(1, 2, 3)\n",
      "range(1, 4)\n"
     ]
    }
   ],
   "source": [
    "a = [1, 2, 3]\n",
    "print(a)\n",
    "\n",
    "b = (1, 2, 3)\n",
    "print(b)\n",
    "\n",
    "c = range(1,4)\n",
    "print(c)"
   ]
  },
  {
   "cell_type": "markdown",
   "metadata": {},
   "source": [
    "### Common Sequence Operations"
   ]
  },
  {
   "cell_type": "code",
   "execution_count": 6,
   "metadata": {
    "pycharm": {
     "name": "#%%\n"
    }
   },
   "outputs": [
    {
     "name": "stdout",
     "output_type": "stream",
     "text": [
      "sequence  = [1, 2, 3]\n",
      "1 in sequence: True\n",
      "1 not in sequence: False\n",
      "[0] + sequence: [0, 1, 2, 3]\n",
      "2 * sequence: [1, 2, 3, 1, 2, 3]\n",
      "sequence[1:2]: [2]\n",
      "sequence[0:3:2]: [1, 3]\n",
      "len(sequence): 3\n",
      "min(sequence): 1\n",
      "max(sequence): 3\n",
      "range(5).index(1): 1\n",
      "[1,2,2,3].count(2): 2\n",
      "[1, 2, 3, 4]\n"
     ]
    }
   ],
   "source": [
    "sequence  = [1, 2, 3]\n",
    "print(\"sequence  = [1, 2, 3]\")\n",
    "print(\"1 in sequence:\", 1 in sequence)\n",
    "print(\"1 not in sequence:\", 1 not in sequence)\n",
    "print(\"[0] + sequence:\", [0] + sequence)\n",
    "print(\"2 * sequence:\", 2 * sequence)\n",
    "\n",
    "print(\"sequence[1:2]:\", sequence[1:2])\n",
    "print(\"sequence[0:3:2]:\", sequence[0:3:2])\n",
    "print(\"len(sequence):\", len(sequence))\n",
    "print(\"min(sequence):\", min(sequence))\n",
    "print(\"max(sequence):\", max(sequence))\n",
    "print(\"range(5).index(1):\", range(5).index(1))\n",
    "print(\"[1,2,2,3].count(2):\", [1,2,2,3].count(2))\n",
    "\n",
    "sequence.append(4)\n",
    "print(sequence)\n"
   ]
  },
  {
   "cell_type": "markdown",
   "metadata": {},
   "source": [
    "### Unpacking"
   ]
  },
  {
   "cell_type": "code",
   "execution_count": 46,
   "metadata": {
    "pycharm": {
     "name": "#%%\n"
    }
   },
   "outputs": [
    {
     "name": "stdout",
     "output_type": "stream",
     "text": [
      "[1, 2, 3]\n",
      "1 2 3\n",
      "1 [2, 3]\n",
      "1 2 3\n",
      "2 1\n"
     ]
    }
   ],
   "source": [
    "x = [1, 2, 3]\n",
    "print(x)\n",
    "a, b, c = x\n",
    "print(a, b, c)\n",
    "a, *b = x\n",
    "print(a, b)\n",
    "print(*x)\n",
    "a = 1\n",
    "b = 2\n",
    "a, b = b, a\n",
    "print(a, b)"
   ]
  },
  {
   "cell_type": "code",
   "execution_count": 48,
   "metadata": {
    "pycharm": {
     "name": "#%%\n"
    }
   },
   "outputs": [
    {
     "name": "stdout",
     "output_type": "stream",
     "text": [
      "(1, 2, 3)\n",
      "[1, 2, 3]\n",
      "[0, 2, 3]\n"
     ]
    }
   ],
   "source": [
    "# Immutable Sequence Types\n",
    "tup = tuple([1, 2, 3]) # same as (1,2,3)\n",
    "print(tup)\n",
    "\n",
    "\n",
    "# Mutable Sequence Types\n",
    "l = list((1, 2, 3)) # same as  [1,2,3]\n",
    "print(l)\n",
    "l[0] = 0\n",
    "print(l)"
   ]
  },
  {
   "cell_type": "markdown",
   "metadata": {},
   "source": [
    "### Set Types"
   ]
  },
  {
   "cell_type": "code",
   "execution_count": 51,
   "metadata": {
    "pycharm": {
     "name": "#%%\n"
    }
   },
   "outputs": [
    {
     "name": "stdout",
     "output_type": "stream",
     "text": [
      "{1, 2, 3}\n",
      "frozenset({1, 2, 3})\n"
     ]
    }
   ],
   "source": [
    "# Mutable Set Types\n",
    "s = set([1, 2, 3]) # same as  {1,2,3}\n",
    "print(s)\n",
    "\n",
    "# Immutable Set Types\n",
    "fs = frozenset([1, 2, 3])\n",
    "print(fs)\n"
   ]
  },
  {
   "cell_type": "code",
   "execution_count": 53,
   "metadata": {},
   "outputs": [
    {
     "name": "stdout",
     "output_type": "stream",
     "text": [
      "my_set  = {1, 2, 3}\n",
      "1 in my_set: True\n",
      "1 not in my_set: False\n",
      "len(my_set): 3\n",
      "min(my_set): 1\n",
      "max(my_set): 3\n",
      "list(my_set): [1, 2, 3]\n",
      "{1, 2, 3}\n"
     ]
    }
   ],
   "source": [
    "my_set  = {1, 2, 3}\n",
    "print(\"my_set  = {1, 2, 3}\")\n",
    "print(\"1 in my_set:\", 1 in my_set)\n",
    "print(\"1 not in my_set:\", 1 not in my_set)\n",
    "\n",
    "print(\"len(my_set):\", len(my_set))\n",
    "print(\"min(my_set):\", min(my_set))\n",
    "print(\"max(my_set):\", max(my_set))\n",
    "\n",
    "print(\"list(my_set):\", list(my_set))\n",
    "my_set.add(4)\n",
    "print(my_set)\n"
   ]
  },
  {
   "cell_type": "markdown",
   "metadata": {},
   "source": [
    "### Text Sequence Type : Strings"
   ]
  },
  {
   "cell_type": "code",
   "execution_count": 54,
   "metadata": {
    "pycharm": {
     "name": "#%%\n"
    }
   },
   "outputs": [
    {
     "name": "stdout",
     "output_type": "stream",
     "text": [
      "P\n",
      "6\n"
     ]
    }
   ],
   "source": [
    "string = \"Python\"\n",
    "print(string[0])\n",
    "print(len(string))"
   ]
  },
  {
   "cell_type": "markdown",
   "metadata": {},
   "source": [
    "### Common String operations"
   ]
  },
  {
   "cell_type": "code",
   "execution_count": 12,
   "metadata": {
    "pycharm": {
     "name": "#%%\n"
    }
   },
   "outputs": [
    {
     "name": "stdout",
     "output_type": "stream",
     "text": [
      "PYTHON\n",
      "P+y+t+h+o+n\n",
      "['P', 'thon']\n",
      "True\n",
      "True\n",
      "0000Python\n",
      "____Python\n"
     ]
    }
   ],
   "source": [
    "string = \"Python\"\n",
    "print(string.upper())\n",
    "print(\"+\".join(string))\n",
    "print(string.split(\"y\"))\n",
    "print(string.startswith(\"Py\"))\n",
    "print(string.endswith(\"on\"))\n",
    "print(string.zfill(10))\n",
    "print(string.rjust(10, \"_\"))"
   ]
  },
  {
   "cell_type": "markdown",
   "metadata": {},
   "source": [
    "### format String"
   ]
  },
  {
   "cell_type": "code",
   "execution_count": 55,
   "metadata": {
    "pycharm": {
     "name": "#%%\n"
    }
   },
   "outputs": [
    {
     "name": "stdout",
     "output_type": "stream",
     "text": [
      "a, b, c\n",
      "a, b, c\n",
      "c, b, a\n",
      "Python is nice\n"
     ]
    }
   ],
   "source": [
    "print('{0}, {1}, {2}'.format('a', 'b', 'c'))\n",
    "print('{}, {}, {}'.format('a', 'b', 'c'))\n",
    "print('{2}, {1}, {0}'.format('a', 'b', 'c'))\n",
    "\n",
    "p = \"Python\"\n",
    "print(f\"{p} is nice\")\n"
   ]
  },
  {
   "cell_type": "markdown",
   "metadata": {},
   "source": [
    "### Dictionary Types\n",
    "VE05 - Dict Copy Unterpr Parameter"
   ]
  },
  {
   "cell_type": "code",
   "execution_count": 56,
   "metadata": {
    "pycharm": {
     "name": "#%%\n"
    }
   },
   "outputs": [
    {
     "name": "stdout",
     "output_type": "stream",
     "text": [
      "{'one': 1, 'two': 2, 'three': 3}\n",
      "{'one': 1, 'two': 2, 'three': 3}\n",
      "{'two': 2, 'one': 1, 'three': 3}\n",
      "{'one': 1, 'three': 3, 'two': 2}\n",
      "True\n"
     ]
    }
   ],
   "source": [
    "a = dict(one=1, two=2, three=3)\n",
    "b = {'one': 1, 'two': 2, 'three': 3}\n",
    "c = dict([('two', 2), ('one', 1), ('three', 3)])\n",
    "d = dict({'one': 1, 'three': 3}, two=2)\n",
    "\n",
    "print(a)\n",
    "print(b)\n",
    "print(c)\n",
    "print(d)\n",
    "print(a==b==c==d)"
   ]
  },
  {
   "cell_type": "code",
   "execution_count": 57,
   "metadata": {
    "pycharm": {
     "name": "#%%\n"
    }
   },
   "outputs": [
    {
     "name": "stdout",
     "output_type": "stream",
     "text": [
      "1\n",
      "True\n",
      "3\n",
      "['one', 'two', 'three']\n",
      "{'one': 1, 'two': 2, 'three': 3, 'four': 4}\n"
     ]
    }
   ],
   "source": [
    "a = dict(one=1, two=2, three=3)\n",
    "print(a[\"one\"])\n",
    "print(\"one\" in a)\n",
    "print(len(a))\n",
    "print(list(a))\n",
    "a[\"four\"] = 4\n",
    "print(a)"
   ]
  },
  {
   "cell_type": "markdown",
   "metadata": {},
   "source": [
    "## Control Flow Tools"
   ]
  },
  {
   "cell_type": "markdown",
   "metadata": {},
   "source": [
    "### If Statement\n",
    "VE01 - Die nächsten Schritte"
   ]
  },
  {
   "cell_type": "code",
   "execution_count": 61,
   "metadata": {
    "pycharm": {
     "name": "#%%\n"
    }
   },
   "outputs": [
    {
     "name": "stdout",
     "output_type": "stream",
     "text": [
      "More\n"
     ]
    }
   ],
   "source": [
    "x = 5\n",
    "if x < 0:\n",
    "    x = 0\n",
    "    print('Negative changed to zero')\n",
    "elif x == 0:\n",
    "    print('Zero')\n",
    "elif x == 1:\n",
    "    print('Single')\n",
    "else:\n",
    "    print('More')"
   ]
  },
  {
   "cell_type": "code",
   "execution_count": 62,
   "metadata": {
    "pycharm": {
     "name": "#%%\n"
    }
   },
   "outputs": [
    {
     "name": "stdout",
     "output_type": "stream",
     "text": [
      "6\n",
      "6\n"
     ]
    }
   ],
   "source": [
    "x = 6\n",
    "if 5 < x and x < 7:\n",
    "    print(x)\n",
    "\n",
    "if 5 < x < 7:\n",
    "    print(x)"
   ]
  },
  {
   "cell_type": "markdown",
   "metadata": {},
   "source": [
    "### Conditional Expressions"
   ]
  },
  {
   "cell_type": "code",
   "execution_count": 63,
   "metadata": {
    "pycharm": {
     "name": "#%%\n"
    }
   },
   "outputs": [
    {
     "name": "stdout",
     "output_type": "stream",
     "text": [
      "0\n"
     ]
    }
   ],
   "source": [
    "condition = False\n",
    "x = 1 if condition else 0\n",
    "\n",
    "print(x)"
   ]
  },
  {
   "cell_type": "markdown",
   "metadata": {},
   "source": [
    "### While Statement\n",
    "VE02 - Weitere Kontrollstrukturen "
   ]
  },
  {
   "cell_type": "code",
   "execution_count": 19,
   "metadata": {},
   "outputs": [
    {
     "name": "stdout",
     "output_type": "stream",
     "text": [
      "0\n",
      "1\n",
      "2\n"
     ]
    }
   ],
   "source": [
    "x = 0\n",
    "while x < 3:\n",
    "    print(x)\n",
    "    x += 1"
   ]
  },
  {
   "cell_type": "markdown",
   "metadata": {},
   "source": [
    "### For Statement\n",
    "VE02 - Weitere Kontrollstrukturen "
   ]
  },
  {
   "cell_type": "code",
   "execution_count": 20,
   "metadata": {
    "pycharm": {
     "name": "#%%\n"
    }
   },
   "outputs": [
    {
     "name": "stdout",
     "output_type": "stream",
     "text": [
      "cat\n",
      "window\n",
      "defenestrate\n"
     ]
    }
   ],
   "source": [
    "words = ['cat', 'window', 'defenestrate']\n",
    "for w in words:\n",
    "    print(w)"
   ]
  },
  {
   "cell_type": "code",
   "execution_count": 66,
   "metadata": {
    "pycharm": {
     "name": "#%%\n"
    }
   },
   "outputs": [
    {
     "name": "stdout",
     "output_type": "stream",
     "text": [
      "5 6 7 8 9 \n",
      "5 6 7 8 9 "
     ]
    }
   ],
   "source": [
    "# range\n",
    "for i in range(5, 10):\n",
    "    print(i, end=' ')\n",
    "\n",
    "print()\n",
    "for i in [5, 6, 7, 8, 9]:\n",
    "    print(i, end=' ')"
   ]
  },
  {
   "cell_type": "code",
   "execution_count": 67,
   "metadata": {
    "pycharm": {
     "name": "#%%\n"
    }
   },
   "outputs": [
    {
     "name": "stdout",
     "output_type": "stream",
     "text": [
      "0 5\n",
      "1 6\n",
      "2 7\n",
      "3 8\n",
      "4 9\n"
     ]
    }
   ],
   "source": [
    "# if you need index and value\n",
    "for i, v in enumerate(range(5, 10)):\n",
    "    print(i, v)"
   ]
  },
  {
   "cell_type": "code",
   "execution_count": 68,
   "metadata": {
    "pycharm": {
     "name": "#%%\n"
    }
   },
   "outputs": [
    {
     "name": "stdout",
     "output_type": "stream",
     "text": [
      "3 is a prime number\n",
      "4 equals 2 * 2\n",
      "5 is a prime number\n",
      "5 is a prime number\n",
      "5 is a prime number\n",
      "6 equals 2 * 3\n",
      "7 is a prime number\n",
      "7 is a prime number\n",
      "7 is a prime number\n",
      "7 is a prime number\n",
      "7 is a prime number\n",
      "8 equals 2 * 4\n",
      "9 is a prime number\n",
      "9 equals 3 * 3\n"
     ]
    }
   ],
   "source": [
    "# break in Loops\n",
    "for n in range(2, 10):\n",
    "    for x in range(2, n):\n",
    "        if n % x == 0:\n",
    "            print(n, 'equals', x, '*', n//x)\n",
    "            break\n",
    "        else:\n",
    "            # loop fell through without finding a factor\n",
    "            print(n, 'is a prime number')\n",
    "            \n",
    "# example source: https://docs.python.org/3/tutorial/controlflow.html"
   ]
  },
  {
   "cell_type": "code",
   "execution_count": 69,
   "metadata": {
    "pycharm": {
     "name": "#%%\n"
    }
   },
   "outputs": [
    {
     "name": "stdout",
     "output_type": "stream",
     "text": [
      "Found an even number 2\n",
      "Found an odd number 3\n",
      "Found an even number 4\n",
      "Found an odd number 5\n",
      "Found an even number 6\n",
      "Found an odd number 7\n",
      "Found an even number 8\n",
      "Found an odd number 9\n"
     ]
    }
   ],
   "source": [
    "# continue in Loops\n",
    "for num in range(2, 10):\n",
    "    if num % 2 == 0:\n",
    "        print(\"Found an even number\", num)\n",
    "        continue\n",
    "    print(\"Found an odd number\", num)\n",
    "    \n",
    "# example source: https://docs.python.org/3/tutorial/controlflow.html"
   ]
  },
  {
   "cell_type": "code",
   "execution_count": 70,
   "metadata": {
    "pycharm": {
     "name": "#%%\n"
    }
   },
   "outputs": [
    {
     "name": "stdout",
     "output_type": "stream",
     "text": [
      "List missing value.\n"
     ]
    }
   ],
   "source": [
    "# for-else\n",
    "value = 0\n",
    "for i in range(2, 10):\n",
    "    if i == value:\n",
    "        print(i)\n",
    "        break\n",
    "else:\n",
    "    print(\"List missing value.\")\n",
    "    \n",
    "# example source: https://docs.python.org/3/tutorial/controlflow.html"
   ]
  },
  {
   "cell_type": "code",
   "execution_count": 72,
   "metadata": {
    "pycharm": {
     "name": "#%%\n"
    }
   },
   "outputs": [
    {
     "name": "stdout",
     "output_type": "stream",
     "text": [
      "something\n"
     ]
    }
   ],
   "source": [
    "# pass Statements\n",
    "for n in range(2, 10):\n",
    "    pass\n",
    "print(\"something\")"
   ]
  },
  {
   "cell_type": "code",
   "execution_count": 27,
   "metadata": {
    "pycharm": {
     "name": "#%%\n"
    }
   },
   "outputs": [
    {
     "name": "stdout",
     "output_type": "stream",
     "text": [
      "Bad request\n"
     ]
    }
   ],
   "source": [
    "# match Statements\n",
    "status = 400\n",
    "match status:\n",
    "    case 400:\n",
    "        print(\"Bad request\")\n",
    "    case 404:\n",
    "        print(\"Not found\")\n",
    "    case 418:\n",
    "        print(\"I'm a teapot\")\n",
    "    case _:\n",
    "        print(\"Something's wrong with the internet\")"
   ]
  },
  {
   "cell_type": "markdown",
   "metadata": {},
   "source": [
    "### List Comprehensions"
   ]
  },
  {
   "cell_type": "code",
   "execution_count": 74,
   "metadata": {},
   "outputs": [
    {
     "name": "stdout",
     "output_type": "stream",
     "text": [
      "[0, 1, 4, 9, 16, 25, 36, 49, 64, 81]\n",
      "[None, None, None, None, None, None, None, None, None, None]\n",
      "[0, 4, 16, 36, 64]\n"
     ]
    }
   ],
   "source": [
    "squares = []\n",
    "for x in range(10):\n",
    "    squares.append(x**2)\n",
    "print(squares)\n",
    "\n",
    "\n",
    "print([squares.append(1) for x in range(10)])\n",
    "print([x**2 for x in range(10) if (x**2)%2 == 0])"
   ]
  },
  {
   "cell_type": "markdown",
   "metadata": {},
   "source": [
    "### Functions\n",
    "VE05 - Dict Copy Unterpr Parameter"
   ]
  },
  {
   "cell_type": "markdown",
   "metadata": {},
   "source": [
    "Einige Regeln:\n",
    " - Wählt selbsterklärende Namen\n",
    " - Nutzt kurze und einfache Funktionen\n",
    " - Eine Funktion sollte nur eine einzige Aufgabe übernehmen\n",
    " - Nur so viele Argumente wie nötig\n",
    " - Vermeidet Seiteneffekte (insbesondere kein global)"
   ]
  },
  {
   "cell_type": "code",
   "execution_count": 75,
   "metadata": {
    "pycharm": {
     "name": "#%%\n"
    }
   },
   "outputs": [
    {
     "name": "stdout",
     "output_type": "stream",
     "text": [
      "<function fib at 0x0000019BE2F93520>\n",
      "0 1 1 2 3 5 8 \n",
      "None\n"
     ]
    }
   ],
   "source": [
    "def fib(n):\n",
    "    \"\"\"Print a Fibonacci series up to n.\"\"\"\n",
    "    a, b = 0, 1\n",
    "    while a < n:\n",
    "        print(a, end=' ')\n",
    "        a, b = b, a+b\n",
    "    print()\n",
    "\n",
    "print(fib)\n",
    "value = fib(10)\n",
    "print(value)\n",
    "\n",
    "# Quelle Beispiele: https://docs.python.org/3/tutorial/controlflow.html#defining-functions"
   ]
  },
  {
   "cell_type": "code",
   "execution_count": 76,
   "metadata": {
    "pycharm": {
     "name": "#%%\n"
    }
   },
   "outputs": [
    {
     "name": "stdout",
     "output_type": "stream",
     "text": [
      "<function fib2 at 0x0000019BE2F939A0>\n",
      "[0, 1, 1, 2, 3, 5, 8]\n"
     ]
    }
   ],
   "source": [
    "def fib2(n):\n",
    "    \"\"\"Return a list containing the Fibonacci series up to n.\"\"\"\n",
    "    result = []\n",
    "    a, b = 0, 1\n",
    "    while a < n:\n",
    "        result.append(a)    # see below\n",
    "        a, b = b, a+b\n",
    "    return result\n",
    "\n",
    "print(fib2)\n",
    "value = fib2(10)\n",
    "print(value)"
   ]
  },
  {
   "cell_type": "code",
   "execution_count": 77,
   "metadata": {
    "pycharm": {
     "name": "#%%\n"
    }
   },
   "outputs": [
    {
     "name": "stdout",
     "output_type": "stream",
     "text": [
      "3\n",
      "3\n",
      "3\n",
      "3\n"
     ]
    }
   ],
   "source": [
    "# Using arguments\n",
    "def add(a, b):\n",
    "    return a+b\n",
    "\n",
    "print(add(1, 2))\n",
    "print(add(1, b=2))\n",
    "print(add(a=1, b=2))\n",
    "print(add(b=2, a=1))"
   ]
  },
  {
   "cell_type": "code",
   "execution_count": 78,
   "metadata": {
    "pycharm": {
     "name": "#%%\n"
    }
   },
   "outputs": [
    {
     "name": "stdout",
     "output_type": "stream",
     "text": [
      "<function fib3 at 0x0000019BE2F93D00>\n",
      "[0, 1, 1, 2, 3, 5, 8]\n",
      "[0, 1, 1, 2, 3, 5, 8]\n"
     ]
    }
   ],
   "source": [
    "# Default arguments\n",
    "def fib3(n = 10):\n",
    "    \"\"\"Return a list containing the Fibonacci series up to n.\"\"\"\n",
    "    result = []\n",
    "    a, b = 0, 1\n",
    "    while a < n:\n",
    "        result.append(a)    # see below\n",
    "        a, b = b, a+b\n",
    "    return result\n",
    "\n",
    "print(fib3)\n",
    "value = fib3()\n",
    "print(value)\n",
    "value2 = fib3(10)\n",
    "print(value2)"
   ]
  },
  {
   "cell_type": "code",
   "execution_count": 33,
   "metadata": {},
   "outputs": [
    {
     "name": "stdout",
     "output_type": "stream",
     "text": [
      "10\n"
     ]
    }
   ],
   "source": [
    "# Unpacking in Functions\n",
    "def sum_all(a, b, c, d):\n",
    "    return a + b + c + d\n",
    "\n",
    "a = [1, 2, 3, 4]\n",
    "print(sum_all(*a))"
   ]
  },
  {
   "cell_type": "code",
   "execution_count": 79,
   "metadata": {
    "scrolled": true
   },
   "outputs": [
    {
     "name": "stdout",
     "output_type": "stream",
     "text": [
      "2\n",
      "<map object at 0x0000019BE2DD1090>\n",
      "[2, 3]\n",
      "[2, 3]\n"
     ]
    }
   ],
   "source": [
    "# Functions as arguments\n",
    "def add_one(x):\n",
    "    return x+1\n",
    "\n",
    "def my_map(func,  iterable):\n",
    "    return [func(x) for x in iterable]\n",
    "\n",
    "print(add_one(1))\n",
    "mapped = map(add_one, [1,2])\n",
    "print(mapped)\n",
    "print(list(mapped))\n",
    "\n",
    "print(my_map(add_one, [1,2]))"
   ]
  },
  {
   "cell_type": "code",
   "execution_count": 35,
   "metadata": {
    "pycharm": {
     "name": "#%%\n"
    }
   },
   "outputs": [
    {
     "name": "stdout",
     "output_type": "stream",
     "text": [
      "[1]\n",
      "[1, 2]\n",
      "[1, 2, 3]\n",
      "\n",
      "[5, 6, 7]\n",
      "[5, 6, 8]\n"
     ]
    }
   ],
   "source": [
    "# Never use mutable default values!\n",
    "def func(a, L=[]):\n",
    "    L.append(a)\n",
    "    return L\n",
    "\n",
    "print(func(1))\n",
    "print(func(2))\n",
    "print(func(3))\n",
    "print()\n",
    "print(func(7,[5,6]))\n",
    "print(func(8,[5,6]))"
   ]
  },
  {
   "cell_type": "code",
   "execution_count": 36,
   "metadata": {
    "pycharm": {
     "name": "#%%\n"
    }
   },
   "outputs": [
    {
     "name": "stdout",
     "output_type": "stream",
     "text": [
      "{}\n",
      "{'a': <class 'int'>, 'b': <class 'int'>, 'return': <class 'int'>}\n"
     ]
    }
   ],
   "source": [
    "# Function Annotations PEP 3107 & 484\n",
    "def add(a, b):\n",
    "    return a+b\n",
    "\n",
    "def add2(a: int, b:int ) -> int:\n",
    "    return a+b\n",
    "\n",
    "print(add.__annotations__)\n",
    "print(add2.__annotations__)"
   ]
  },
  {
   "cell_type": "markdown",
   "metadata": {},
   "source": [
    "### Docstring & Typing\n",
    "Programmierhandbuch"
   ]
  },
  {
   "cell_type": "code",
   "execution_count": 37,
   "metadata": {
    "pycharm": {
     "name": "#%%\n"
    }
   },
   "outputs": [],
   "source": [
    "from typing import Callable, Iterable, List\n",
    "\n",
    "# Use docstrings PEP 257\n",
    "def add3(a: int, b: int) -> int:\n",
    "    \"\"\"Returns the sum of a and b\n",
    "    :param a: first value\n",
    "    :param b: second value\n",
    "    :return: sum of a and b\n",
    "    \"\"\"\n",
    "    return a+b\n",
    "\n",
    "\n",
    "def my_map(func: Callable[[int], int],  iterable: Iterable[int]) -> Iterable[int]:\n",
    "    \"\"\"My implementation of map\n",
    "    :param func: The function to be apllied on each element of iterable\n",
    "    :param iterable: The iterable\n",
    "    :return: Generator yielding modified elements of iterable\n",
    "    \"\"\"\n",
    "    return (func(x) for x in iterable)\n",
    "\n"
   ]
  },
  {
   "cell_type": "markdown",
   "metadata": {},
   "source": [
    "## Testing \n",
    "VE06 - Glassbox-Tests"
   ]
  },
  {
   "cell_type": "markdown",
   "metadata": {},
   "source": [
    "### Doctest"
   ]
  },
  {
   "cell_type": "code",
   "execution_count": 86,
   "metadata": {
    "pycharm": {
     "name": "#%%\n"
    }
   },
   "outputs": [
    {
     "data": {
      "text/plain": [
       "TestResults(failed=0, attempted=8)"
      ]
     },
     "execution_count": 86,
     "metadata": {},
     "output_type": "execute_result"
    }
   ],
   "source": [
    "import math\n",
    "import doctest\n",
    "import random\n",
    "\n",
    "def factorial(n):\n",
    "    \"\"\"Return the factorial of n, an exact integer >= 0.\n",
    "\n",
    "    >>> [factorial(n) for n in range(6)]\n",
    "    [1, 1, 2, 6, 24, 120]\n",
    "    >>> factorial(30)\n",
    "    265252859812191058636308480000000\n",
    "    >>> factorial(-1)\n",
    "    Traceback (most recent call last):\n",
    "        ...\n",
    "    ValueError: n must be >= 0\n",
    "\n",
    "    Factorials of floats are OK, but the float must be an exact integer:\n",
    "    >>> factorial(30.1)\n",
    "    Traceback (most recent call last):\n",
    "        ...\n",
    "    ValueError: n must be exact integer\n",
    "    >>> factorial(30.0)\n",
    "    265252859812191058636308480000000\n",
    "\n",
    "    It must also not be ridiculously large:\n",
    "    >>> factorial(1e100)\n",
    "    Traceback (most recent call last):\n",
    "        ...\n",
    "    OverflowError: n too large\n",
    "    \n",
    "    >>> random.seed(0)\n",
    "    >>> random.randint(1,10)\n",
    "    7\n",
    "    \n",
    "    \"\"\"\n",
    "\n",
    "    if not n >= 0:\n",
    "        raise ValueError(\"n must be >= 0\")\n",
    "    if math.floor(n) != n:\n",
    "        raise ValueError(\"n must be exact integer\")\n",
    "    if n+1 == n:  # catch a value like 1e300\n",
    "        raise OverflowError(\"n too large\")\n",
    "    result = 1\n",
    "    factor = 2\n",
    "    while factor <= n:\n",
    "        result *= factor\n",
    "        factor += 1\n",
    "    return result\n",
    "\n",
    "doctest.testmod(verbose=False)\n",
    "\n",
    "# Quelle https://docs.python.org/3/library/doctest.html"
   ]
  },
  {
   "cell_type": "markdown",
   "metadata": {},
   "source": [
    "### Unittest"
   ]
  },
  {
   "cell_type": "code",
   "execution_count": 82,
   "metadata": {
    "pycharm": {
     "name": "#%%\n"
    }
   },
   "outputs": [
    {
     "name": "stderr",
     "output_type": "stream",
     "text": [
      "----------------------------------------------------------------------\n",
      "Ran 3 tests in 0.000s\n",
      "\n",
      "OK\n"
     ]
    },
    {
     "data": {
      "text/plain": [
       "<unittest.main.TestProgram at 0x19be2dd00a0>"
      ]
     },
     "execution_count": 82,
     "metadata": {},
     "output_type": "execute_result"
    }
   ],
   "source": [
    "import unittest\n",
    "\n",
    "class TestStringMethods(unittest.TestCase):\n",
    "\n",
    "    def test_upper(self):\n",
    "        self.assertEqual('foo'.upper(), 'FOO')\n",
    "\n",
    "    def test_isupper(self):\n",
    "        self.assertTrue('FOO'.isupper())\n",
    "        self.assertFalse('Foo'.isupper())\n",
    "\n",
    "    def test_split(self):\n",
    "        s = 'hello world'\n",
    "        self.assertEqual(s.split(), ['hello', 'world'])\n",
    "        # check that s.split fails when the separator is not a string\n",
    "        with self.assertRaises(TypeError):\n",
    "            s.split(2)\n",
    "\n",
    "unittest.main(argv=['first-arg-is-ignored'], exit=False, verbosity=0) # attributes only for using in jupyter\n",
    "\n",
    "# Quelle https://docs.python.org/3/library/unittest.html"
   ]
  }
 ],
 "metadata": {
  "kernelspec": {
   "display_name": "Python 3 (ipykernel)",
   "language": "python",
   "name": "python3"
  },
  "language_info": {
   "codemirror_mode": {
    "name": "ipython",
    "version": 3
   },
   "file_extension": ".py",
   "mimetype": "text/x-python",
   "name": "python",
   "nbconvert_exporter": "python",
   "pygments_lexer": "ipython3",
   "version": "3.10.0"
  },
  "toc": {
   "base_numbering": 1,
   "nav_menu": {},
   "number_sections": true,
   "sideBar": true,
   "skip_h1_title": false,
   "title_cell": "Table of Contents",
   "title_sidebar": "Contents",
   "toc_cell": false,
   "toc_position": {},
   "toc_section_display": true,
   "toc_window_display": false
  },
  "toc_section_display": true,
  "toc_window_display": true
 },
 "nbformat": 4,
 "nbformat_minor": 1
}